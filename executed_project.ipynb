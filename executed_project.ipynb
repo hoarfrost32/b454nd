{
 "cells": [
  {
   "cell_type": "code",
   "execution_count": 1,
   "id": "fe8dbf69",
   "metadata": {
    "execution": {
     "iopub.execute_input": "2024-12-03T08:09:52.746129Z",
     "iopub.status.busy": "2024-12-03T08:09:52.745506Z",
     "iopub.status.idle": "2024-12-03T08:09:52.751070Z",
     "shell.execute_reply": "2024-12-03T08:09:52.750320Z"
    },
    "papermill": {
     "duration": 0.015154,
     "end_time": "2024-12-03T08:09:52.753559",
     "exception": false,
     "start_time": "2024-12-03T08:09:52.738405",
     "status": "completed"
    },
    "tags": [
     "injected-parameters"
    ]
   },
   "outputs": [],
   "source": [
    "# Parameters\n",
    "image_path = \"input_image.png\"\n"
   ]
  },
  {
   "cell_type": "code",
   "execution_count": 2,
   "id": "6c6fb94d-40ab-4c61-a860-11247544539d",
   "metadata": {
    "execution": {
     "iopub.execute_input": "2024-12-03T08:09:52.760681Z",
     "iopub.status.busy": "2024-12-03T08:09:52.760454Z",
     "iopub.status.idle": "2024-12-03T08:09:52.762344Z",
     "shell.execute_reply": "2024-12-03T08:09:52.762089Z"
    },
    "papermill": {
     "duration": 0.004886,
     "end_time": "2024-12-03T08:09:52.763118",
     "exception": false,
     "start_time": "2024-12-03T08:09:52.758232",
     "status": "completed"
    },
    "tags": []
   },
   "outputs": [],
   "source": [
    "try:\n",
    "    image_path\n",
    "except NameError:\n",
    "    image_path = 'sample-flowcharts/fc4.jpeg'"
   ]
  },
  {
   "cell_type": "code",
   "execution_count": 3,
   "id": "79cbc6f0-1a0b-451d-adb3-8603caf25770",
   "metadata": {
    "execution": {
     "iopub.execute_input": "2024-12-03T08:09:52.765384Z",
     "iopub.status.busy": "2024-12-03T08:09:52.765270Z",
     "iopub.status.idle": "2024-12-03T08:09:53.293333Z",
     "shell.execute_reply": "2024-12-03T08:09:53.292913Z"
    },
    "papermill": {
     "duration": 0.530599,
     "end_time": "2024-12-03T08:09:53.294672",
     "exception": false,
     "start_time": "2024-12-03T08:09:52.764073",
     "status": "completed"
    },
    "tags": []
   },
   "outputs": [],
   "source": [
    "import cv2\n",
    "import numpy as np\n",
    "import math\n",
    "import os\n",
    "from matplotlib import pyplot as plt"
   ]
  },
  {
   "cell_type": "code",
   "execution_count": 4,
   "id": "dfaf1aaf-fde1-44e2-b41d-eacc31552535",
   "metadata": {
    "execution": {
     "iopub.execute_input": "2024-12-03T08:09:53.298475Z",
     "iopub.status.busy": "2024-12-03T08:09:53.298251Z",
     "iopub.status.idle": "2024-12-03T08:09:53.303266Z",
     "shell.execute_reply": "2024-12-03T08:09:53.303009Z"
    },
    "papermill": {
     "duration": 0.007661,
     "end_time": "2024-12-03T08:09:53.304066",
     "exception": false,
     "start_time": "2024-12-03T08:09:53.296405",
     "status": "completed"
    },
    "tags": []
   },
   "outputs": [],
   "source": [
    "# Helper methods\n",
    "def denoiseAndFill(m, thres):\n",
    "    contours, _ = cv2.findContours(m, cv2.RETR_EXTERNAL, cv2.CHAIN_APPROX_SIMPLE)\n",
    "    denoise = np.zeros_like(m)\n",
    "    for contour in contours:\n",
    "        if cv2.contourArea(contour) > thres:\n",
    "            cv2.drawContours(denoise, [contour], -1, 255, thickness=cv2.FILLED)\n",
    "    return denoise\n",
    "\n",
    "def rotate(m, lines):\n",
    "    angles = []\n",
    "    for line in lines:\n",
    "        for x1, y1, x2, y2 in line:\n",
    "            angle = math.atan2(y2 - y1, x2 - x1)\n",
    "            angles.append(angle)\n",
    "    angles.sort()\n",
    "    majority_angles = findMajority(np.array(angles), 10)\n",
    "    angle = np.median(majority_angles)\n",
    "    degree = math.degrees(angle)\n",
    "\n",
    "    # Rotate image\n",
    "    (h, w) = m.shape[:2]\n",
    "    center = (w // 2, h // 2)\n",
    "    rotMat = cv2.getRotationMatrix2D(center, degree, 1.0)\n",
    "    rotated = cv2.warpAffine(m, rotMat, (w, h), flags=cv2.INTER_LINEAR)\n",
    "    return rotated\n",
    "\n",
    "def findMajority(input_angles, splits):\n",
    "    pi = math.pi\n",
    "    bins = np.linspace(-pi/2, pi/2, splits+1)\n",
    "    hist, bin_edges = np.histogram(input_angles, bins)\n",
    "    max_bin = np.argmax(hist)\n",
    "    mask = (input_angles >= bin_edges[max_bin]) & (input_angles < bin_edges[max_bin+1])\n",
    "    majority = input_angles[mask]\n",
    "    return majority\n",
    "\n",
    "def dilate(m, r):\n",
    "    se = seGen(r)\n",
    "    dilated = cv2.dilate(m, se)\n",
    "    return dilated\n",
    "\n",
    "def erode(m, r):\n",
    "    se = seGen(r)\n",
    "    eroded = cv2.erode(m, se)\n",
    "    return eroded\n",
    "\n",
    "def seGen(radius):\n",
    "    diameter = 2 * radius + 1\n",
    "    se = cv2.getStructuringElement(cv2.MORPH_ELLIPSE, (diameter, diameter))\n",
    "    return se\n",
    "\n",
    "def genRectAndDiam(m):\n",
    "    contours, _ = cv2.findContours(m, cv2.RETR_EXTERNAL, cv2.CHAIN_APPROX_SIMPLE)\n",
    "    rectangle = np.zeros_like(m)\n",
    "    diamond = np.zeros_like(m)\n",
    "    for contour in contours:\n",
    "        area = cv2.contourArea(contour)\n",
    "        x, y, w, h = cv2.boundingRect(contour)\n",
    "        rect_area = w * h\n",
    "        if area / rect_area > 0.75:\n",
    "            cv2.drawContours(rectangle, [contour], -1, 255, thickness=cv2.FILLED)\n",
    "        else:\n",
    "            cv2.drawContours(diamond, [contour], -1, 255, thickness=cv2.FILLED)\n",
    "    return rectangle, diamond\n",
    "\n",
    "def plot_image(img, title):\n",
    "    plt.figure()\n",
    "    plt.imshow(img, cmap=\"gray\")\n",
    "    plt.axis('off')\n",
    "    plt.title(title)\n",
    "    plt.show()"
   ]
  },
  {
   "cell_type": "code",
   "execution_count": 5,
   "id": "fb437b19-e149-44af-a428-e828386cf8f5",
   "metadata": {
    "execution": {
     "iopub.execute_input": "2024-12-03T08:09:53.306225Z",
     "iopub.status.busy": "2024-12-03T08:09:53.306129Z",
     "iopub.status.idle": "2024-12-03T08:09:53.310479Z",
     "shell.execute_reply": "2024-12-03T08:09:53.310184Z"
    },
    "papermill": {
     "duration": 0.006268,
     "end_time": "2024-12-03T08:09:53.311268",
     "exception": false,
     "start_time": "2024-12-03T08:09:53.305000",
     "status": "completed"
    },
    "tags": []
   },
   "outputs": [],
   "source": [
    "def prepro(mat):\n",
    "    plot_image(mat, \"Original Image\")\n",
    "    rows, cols = mat.shape[:2]\n",
    "\n",
    "    # Convert to grayscale\n",
    "    gray = cv2.cvtColor(mat, cv2.COLOR_RGB2GRAY)\n",
    "    plot_image(gray, \"Grayscale Image\")\n",
    "\n",
    "    # Adaptive thresholding (binarization)\n",
    "    bina = cv2.adaptiveThreshold(gray, 255, cv2.ADAPTIVE_THRESH_MEAN_C, cv2.THRESH_BINARY, 65, 40)\n",
    "    plot_image(bina, \"Binarized Image\")\n",
    "\n",
    "    # Bitwise inversion\n",
    "    bina = cv2.bitwise_not(bina)\n",
    "    plot_image(bina, \"Bitwise Inverted Image\")\n",
    "\n",
    "\n",
    "    # Denoise and fill\n",
    "    denoise = denoiseAndFill(bina, 100)\n",
    "    plot_image(denoise, \"After denoising and fill\")\n",
    "\n",
    "    # Edge detection\n",
    "    edges = cv2.Canny(denoise, 100, 100, apertureSize=3, L2gradient=False)\n",
    "    plot_image(edges, \"Detected Edges\")\n",
    "\n",
    "    # Hough Transform\n",
    "    lines = cv2.HoughLinesP(edges, 1, np.pi / 180.0, 50, minLineLength=30, maxLineGap=5)\n",
    "    if lines is not None and len(lines) > 0:\n",
    "        rotated = rotate(denoise, lines)\n",
    "        substitute = rotated.copy()\n",
    "        rows, cols = substitute.shape[:2]\n",
    "    else:\n",
    "        substitute = denoise.copy()\n",
    "    plot_image(substitute, \"Rotated Image\")\n",
    "\n",
    "    # Fill small regions\n",
    "    fill = denoiseAndFill(substitute, 100)\n",
    "\n",
    "    # Morphological opening to eliminate arrows\n",
    "    seOpen = seGen(10)\n",
    "    opened = cv2.morphologyEx(fill, cv2.MORPH_OPEN, seOpen)\n",
    "    opened = denoiseAndFill(opened, 100)\n",
    "    plot_image(opened, \"Opened Image\")\n",
    "\n",
    "    # Compute difference to get arrows\n",
    "    diff = cv2.absdiff(fill, opened)\n",
    "    plot_image(diff, \"Arrows\")\n",
    "\n",
    "    # Remove small areas generated by opening\n",
    "    remv = denoiseAndFill(diff, 50)\n",
    "    arro = dilate(remv, 10)\n",
    "    plot_image(arro, \"Enhanced Arrows\")\n",
    "\n",
    "    # Extract rectangles and diamonds\n",
    "    blob = cv2.absdiff(fill, remv)\n",
    "\n",
    "    # Find circles\n",
    "    eroded_blob = erode(blob, 10)\n",
    "    diff_blob = cv2.absdiff(blob, eroded_blob)\n",
    "    copy_blob = diff_blob.copy()\n",
    "    contours, _ = cv2.findContours(diff_blob, cv2.RETR_EXTERNAL, cv2.CHAIN_APPROX_SIMPLE)\n",
    "    for contour in contours:\n",
    "        temp = np.zeros_like(diff_blob)\n",
    "        cv2.drawContours(temp, [contour], -1, 255, 10)\n",
    "        circles = cv2.HoughCircles(temp, cv2.HOUGH_GRADIENT, 2, substitute.shape[0]/4, param1=200, param2=100, minRadius=0, maxRadius=0)\n",
    "        if circles is not None and len(circles) > 0:\n",
    "            cv2.fillPoly(copy_blob, [contour], 0)\n",
    "    circ = cv2.absdiff(diff_blob, copy_blob)\n",
    "\n",
    "    # Distinguish rectangles and diamonds\n",
    "    rect, diam = genRectAndDiam(copy_blob)\n",
    "\n",
    "    # Erode\n",
    "    eroded_rect = erode(rect, 10)\n",
    "    eroded_diam = erode(diam, 10)\n",
    "\n",
    "    # Get final rectangles and diamonds\n",
    "    rect = cv2.absdiff(rect, eroded_rect)\n",
    "    diam = cv2.absdiff(diam, eroded_diam)\n",
    "\n",
    "    # Final result\n",
    "    result = [rect, diam, arro, circ]\n",
    "    plot_image(rect, \"Rectangles\")\n",
    "    plot_image(diam, \"Diamonds\")\n",
    "    plot_image(circ, \"Circles\")\n",
    "    plot_image(arro, \"Arrows\")\n",
    "    return result"
   ]
  },
  {
   "cell_type": "code",
   "execution_count": 6,
   "id": "53b69db0-7060-4ae0-bf1a-8df182f4e187",
   "metadata": {
    "execution": {
     "iopub.execute_input": "2024-12-03T08:09:53.313823Z",
     "iopub.status.busy": "2024-12-03T08:09:53.313673Z",
     "iopub.status.idle": "2024-12-03T08:09:53.521386Z",
     "shell.execute_reply": "2024-12-03T08:09:53.521030Z"
    },
    "papermill": {
     "duration": 0.21033,
     "end_time": "2024-12-03T08:09:53.522828",
     "exception": false,
     "start_time": "2024-12-03T08:09:53.312498",
     "status": "completed"
    },
    "tags": []
   },
   "outputs": [
    {
     "name": "stderr",
     "output_type": "stream",
     "text": [
      "/var/folders/zf/tlb2078n343gt63yyzg050lm0000gn/T/ipykernel_81106/3377694811.py:71: UserWarning: FigureCanvasAgg is non-interactive, and thus cannot be shown\n",
      "  plt.show()\n"
     ]
    }
   ],
   "source": [
    "# image_path = \"sample-flowcharts/fc4.jpeg\"\n",
    "fc = cv2.cvtColor(cv2.imread(image_path), cv2.COLOR_BGR2RGB)\n",
    "result = prepro(fc)"
   ]
  },
  {
   "cell_type": "code",
   "execution_count": 7,
   "id": "13ba5003-be5c-4948-90fa-1e2bb9ba7eb3",
   "metadata": {
    "execution": {
     "iopub.execute_input": "2024-12-03T08:09:53.525622Z",
     "iopub.status.busy": "2024-12-03T08:09:53.525467Z",
     "iopub.status.idle": "2024-12-03T08:09:53.527424Z",
     "shell.execute_reply": "2024-12-03T08:09:53.527173Z"
    },
    "papermill": {
     "duration": 0.004101,
     "end_time": "2024-12-03T08:09:53.528165",
     "exception": false,
     "start_time": "2024-12-03T08:09:53.524064",
     "status": "completed"
    },
    "tags": []
   },
   "outputs": [],
   "source": [
    "def detect_and_draw_contours_exact(binary_image, canvas, color):\n",
    "    contours, _ = cv2.findContours(binary_image, cv2.RETR_EXTERNAL, cv2.CHAIN_APPROX_SIMPLE)\n",
    "    for contour in contours:\n",
    "        cv2.drawContours(canvas, [contour], -1, color, thickness=cv2.FILLED)        "
   ]
  },
  {
   "cell_type": "code",
   "execution_count": 8,
   "id": "be6a86d2-6def-4ac6-b4eb-0f9a342b894c",
   "metadata": {
    "execution": {
     "iopub.execute_input": "2024-12-03T08:09:53.531326Z",
     "iopub.status.busy": "2024-12-03T08:09:53.531153Z",
     "iopub.status.idle": "2024-12-03T08:09:53.552016Z",
     "shell.execute_reply": "2024-12-03T08:09:53.551695Z"
    },
    "papermill": {
     "duration": 0.023754,
     "end_time": "2024-12-03T08:09:53.553015",
     "exception": false,
     "start_time": "2024-12-03T08:09:53.529261",
     "status": "completed"
    },
    "tags": []
   },
   "outputs": [
    {
     "name": "stderr",
     "output_type": "stream",
     "text": [
      "/var/folders/zf/tlb2078n343gt63yyzg050lm0000gn/T/ipykernel_81106/4195007297.py:21: UserWarning: FigureCanvasAgg is non-interactive, and thus cannot be shown\n",
      "  plt.show()\n"
     ]
    }
   ],
   "source": [
    "[rectangle, diamond, circle, arrows] = result\n",
    "\n",
    "assert circle.shape == rectangle.shape == diamond.shape == arrows.shape\n",
    "height, width = circle.shape\n",
    "canvas = np.zeros((height, width, 4), dtype=np.uint8)\n",
    "\n",
    "circle_color = (255, 0, 0, 255)    # Red\n",
    "rectangle_color = (0, 255, 0, 255)  # Green\n",
    "diamond_color = (0, 0, 255, 255)   # Blue\n",
    "arrows_color = (255, 255, 0, 255)  # Yellow\n",
    "\n",
    "detect_and_draw_contours_exact(circle, canvas, circle_color)\n",
    "detect_and_draw_contours_exact(rectangle, canvas, rectangle_color)\n",
    "detect_and_draw_contours_exact(diamond, canvas, diamond_color)\n",
    "detect_and_draw_contours_exact(arrows, canvas, arrows_color)\n",
    "\n",
    "cv2.imwrite('output-flowchart.png', canvas)\n",
    "plt.imshow(cv2.cvtColor(canvas, cv2.COLOR_RGBA2RGB))\n",
    "plt.title('Combined Shapes with Retained Positions')\n",
    "plt.axis('off')\n",
    "plt.show()"
   ]
  }
 ],
 "metadata": {
  "kernelspec": {
   "display_name": "Python 3 (ipykernel)",
   "language": "python",
   "name": "python3"
  },
  "language_info": {
   "codemirror_mode": {
    "name": "ipython",
    "version": 3
   },
   "file_extension": ".py",
   "mimetype": "text/x-python",
   "name": "python",
   "nbconvert_exporter": "python",
   "pygments_lexer": "ipython3",
   "version": "3.12.2"
  },
  "papermill": {
   "default_parameters": {},
   "duration": 2.015689,
   "end_time": "2024-12-03T08:09:53.775768",
   "environment_variables": {},
   "exception": null,
   "input_path": "preprocessing.ipynb",
   "output_path": "executed_project.ipynb",
   "parameters": {
    "image_path": "input_image.png"
   },
   "start_time": "2024-12-03T08:09:51.760079",
   "version": "2.6.0"
  }
 },
 "nbformat": 4,
 "nbformat_minor": 5
}