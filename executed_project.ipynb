{
 "cells": [
  {
   "cell_type": "code",
   "execution_count": 1,
   "id": "23c8f65a",
   "metadata": {
    "execution": {
     "iopub.execute_input": "2024-12-03T05:21:14.632483Z",
     "iopub.status.busy": "2024-12-03T05:21:14.631920Z",
     "iopub.status.idle": "2024-12-03T05:21:14.638381Z",
     "shell.execute_reply": "2024-12-03T05:21:14.637729Z"
    },
    "papermill": {
     "duration": 0.017153,
     "end_time": "2024-12-03T05:21:14.640762",
     "exception": false,
     "start_time": "2024-12-03T05:21:14.623609",
     "status": "completed"
    },
    "tags": [
     "injected-parameters"
    ]
   },
   "outputs": [],
   "source": [
    "# Parameters\n",
    "image_path = \"input_image.png\"\n"
   ]
  },
  {
   "cell_type": "code",
   "execution_count": 2,
   "id": "79cbc6f0-1a0b-451d-adb3-8603caf25770",
   "metadata": {
    "execution": {
     "iopub.execute_input": "2024-12-03T05:21:14.651215Z",
     "iopub.status.busy": "2024-12-03T05:21:14.650765Z",
     "iopub.status.idle": "2024-12-03T05:21:15.102467Z",
     "shell.execute_reply": "2024-12-03T05:21:15.102198Z"
    },
    "papermill": {
     "duration": 0.458198,
     "end_time": "2024-12-03T05:21:15.103418",
     "exception": false,
     "start_time": "2024-12-03T05:21:14.645220",
     "status": "completed"
    },
    "tags": []
   },
   "outputs": [],
   "source": [
    "import cv2\n",
    "import numpy as np\n",
    "import math\n",
    "import os\n",
    "from matplotlib import pyplot as plt"
   ]
  },
  {
   "cell_type": "code",
   "execution_count": 3,
   "id": "fffb06c6-d41c-4f61-9025-713cda58ba09",
   "metadata": {
    "execution": {
     "iopub.execute_input": "2024-12-03T05:21:15.105750Z",
     "iopub.status.busy": "2024-12-03T05:21:15.105607Z",
     "iopub.status.idle": "2024-12-03T05:21:15.107450Z",
     "shell.execute_reply": "2024-12-03T05:21:15.107216Z"
    },
    "papermill": {
     "duration": 0.00378,
     "end_time": "2024-12-03T05:21:15.108176",
     "exception": false,
     "start_time": "2024-12-03T05:21:15.104396",
     "status": "completed"
    },
    "tags": []
   },
   "outputs": [],
   "source": [
    "def plot_image(img, title):\n",
    "    plt.figure()\n",
    "    plt.imshow(img, cmap=\"gray\")\n",
    "    plt.axis('off')\n",
    "    plt.title(title)\n",
    "    plt.show()"
   ]
  },
  {
   "cell_type": "code",
   "execution_count": 4,
   "id": "dfaf1aaf-fde1-44e2-b41d-eacc31552535",
   "metadata": {
    "execution": {
     "iopub.execute_input": "2024-12-03T05:21:15.110177Z",
     "iopub.status.busy": "2024-12-03T05:21:15.110072Z",
     "iopub.status.idle": "2024-12-03T05:21:15.114206Z",
     "shell.execute_reply": "2024-12-03T05:21:15.114001Z"
    },
    "papermill": {
     "duration": 0.00598,
     "end_time": "2024-12-03T05:21:15.114966",
     "exception": false,
     "start_time": "2024-12-03T05:21:15.108986",
     "status": "completed"
    },
    "tags": []
   },
   "outputs": [],
   "source": [
    "# Helper methods\n",
    "def denoiseAndFill(m, thres):\n",
    "    contours, _ = cv2.findContours(m, cv2.RETR_EXTERNAL, cv2.CHAIN_APPROX_SIMPLE)\n",
    "    denoise = np.zeros_like(m)\n",
    "    for contour in contours:\n",
    "        if cv2.contourArea(contour) > thres:\n",
    "            cv2.drawContours(denoise, [contour], -1, 255, thickness=cv2.FILLED)\n",
    "    return denoise\n",
    "\n",
    "def rotate(m, lines):\n",
    "    angles = []\n",
    "    for line in lines:\n",
    "        for x1, y1, x2, y2 in line:\n",
    "            angle = math.atan2(y2 - y1, x2 - x1)\n",
    "            angles.append(angle)\n",
    "    angles.sort()\n",
    "    majority_angles = findMajority(np.array(angles), 10)\n",
    "    angle = np.median(majority_angles)\n",
    "    degree = math.degrees(angle)\n",
    "\n",
    "    # Rotate image\n",
    "    (h, w) = m.shape[:2]\n",
    "    center = (w // 2, h // 2)\n",
    "    rotMat = cv2.getRotationMatrix2D(center, degree, 1.0)\n",
    "    rotated = cv2.warpAffine(m, rotMat, (w, h), flags=cv2.INTER_LINEAR)\n",
    "    return rotated\n",
    "\n",
    "def findMajority(input_angles, splits):\n",
    "    pi = math.pi\n",
    "    bins = np.linspace(-pi/2, pi/2, splits+1)\n",
    "    hist, bin_edges = np.histogram(input_angles, bins)\n",
    "    max_bin = np.argmax(hist)\n",
    "    mask = (input_angles >= bin_edges[max_bin]) & (input_angles < bin_edges[max_bin+1])\n",
    "    majority = input_angles[mask]\n",
    "    return majority\n",
    "\n",
    "def dilate(m, r):\n",
    "    se = seGen(r)\n",
    "    dilated = cv2.dilate(m, se)\n",
    "    return dilated\n",
    "\n",
    "def erode(m, r):\n",
    "    se = seGen(r)\n",
    "    eroded = cv2.erode(m, se)\n",
    "    return eroded\n",
    "\n",
    "def seGen(radius):\n",
    "    diameter = 2 * radius + 1\n",
    "    se = cv2.getStructuringElement(cv2.MORPH_ELLIPSE, (diameter, diameter))\n",
    "    return se\n",
    "\n",
    "def genRectAndDiam(m):\n",
    "    contours, _ = cv2.findContours(m, cv2.RETR_EXTERNAL, cv2.CHAIN_APPROX_SIMPLE)\n",
    "    rectangle = np.zeros_like(m)\n",
    "    diamond = np.zeros_like(m)\n",
    "    for contour in contours:\n",
    "        area = cv2.contourArea(contour)\n",
    "        x, y, w, h = cv2.boundingRect(contour)\n",
    "        rect_area = w * h\n",
    "        if area / rect_area > 0.75:\n",
    "            cv2.drawContours(rectangle, [contour], -1, 255, thickness=cv2.FILLED)\n",
    "        else:\n",
    "            cv2.drawContours(diamond, [contour], -1, 255, thickness=cv2.FILLED)\n",
    "    return rectangle, diamond"
   ]
  },
  {
   "cell_type": "code",
   "execution_count": 5,
   "id": "fb437b19-e149-44af-a428-e828386cf8f5",
   "metadata": {
    "execution": {
     "iopub.execute_input": "2024-12-03T05:21:15.116891Z",
     "iopub.status.busy": "2024-12-03T05:21:15.116780Z",
     "iopub.status.idle": "2024-12-03T05:21:15.120992Z",
     "shell.execute_reply": "2024-12-03T05:21:15.120784Z"
    },
    "papermill": {
     "duration": 0.005927,
     "end_time": "2024-12-03T05:21:15.121666",
     "exception": false,
     "start_time": "2024-12-03T05:21:15.115739",
     "status": "completed"
    },
    "tags": []
   },
   "outputs": [],
   "source": [
    "def prepro(mat):\n",
    "    plot_image(mat, \"Original Image\")\n",
    "    rows, cols = mat.shape[:2]\n",
    "\n",
    "    # Convert to grayscale\n",
    "    gray = cv2.cvtColor(mat, cv2.COLOR_RGB2GRAY)\n",
    "    plot_image(gray, \"Grayscale Image\")\n",
    "\n",
    "    # Adaptive thresholding (binarization)\n",
    "    bina = cv2.adaptiveThreshold(gray, 255, cv2.ADAPTIVE_THRESH_MEAN_C, cv2.THRESH_BINARY, 65, 40)\n",
    "    plot_image(bina, \"Binarized Image\")\n",
    "\n",
    "    # Bitwise inversion\n",
    "    bina = cv2.bitwise_not(bina)\n",
    "    plot_image(bina, \"Bitwise Inverted Image\")\n",
    "\n",
    "    # Denoise and fill\n",
    "    denoise = denoiseAndFill(bina, 100)\n",
    "    plot_image(denoise, \"After denoising and fill\")\n",
    "\n",
    "    # Edge detection\n",
    "    edges = cv2.Canny(denoise, 100, 100, apertureSize=3, L2gradient=False)\n",
    "    plot_image(edges, \"Detected Edges\")\n",
    "\n",
    "    # Hough Transform\n",
    "    lines = cv2.HoughLinesP(edges, 1, np.pi / 180.0, 50, minLineLength=30, maxLineGap=5)\n",
    "    if lines is not None and len(lines) > 0:\n",
    "        rotated = rotate(denoise, lines)\n",
    "        substitute = rotated.copy()\n",
    "        rows, cols = substitute.shape[:2]\n",
    "    else:\n",
    "        substitute = denoise.copy()\n",
    "    plot_image(substitute, \"Rotated Image\")\n",
    "\n",
    "    # Fill small regions\n",
    "    fill = denoiseAndFill(substitute, 100)\n",
    "\n",
    "    # Morphological opening to eliminate arrows\n",
    "    seOpen = seGen(10)\n",
    "    opened = cv2.morphologyEx(fill, cv2.MORPH_OPEN, seOpen)\n",
    "    opened = denoiseAndFill(opened, 100)\n",
    "    plot_image(opened, \"Opened Image\")\n",
    "\n",
    "    # Compute difference to get arrows\n",
    "    diff = cv2.absdiff(fill, opened)\n",
    "    plot_image(diff, \"Arrows\")\n",
    "\n",
    "    # Remove small areas generated by opening\n",
    "    remv = denoiseAndFill(diff, 50)\n",
    "    arro = dilate(remv, 10)\n",
    "    plot_image(arro, \"Enhanced Arrows\")\n",
    "\n",
    "    # Extract rectangles and diamonds\n",
    "    blob = cv2.absdiff(fill, remv)\n",
    "\n",
    "    # Find circles\n",
    "    eroded_blob = erode(blob, 10)\n",
    "    diff_blob = cv2.absdiff(blob, eroded_blob)\n",
    "    copy_blob = diff_blob.copy()\n",
    "    contours, _ = cv2.findContours(diff_blob, cv2.RETR_EXTERNAL, cv2.CHAIN_APPROX_SIMPLE)\n",
    "    for contour in contours:\n",
    "        temp = np.zeros_like(diff_blob)\n",
    "        cv2.drawContours(temp, [contour], -1, 255, 10)\n",
    "        circles = cv2.HoughCircles(temp, cv2.HOUGH_GRADIENT, 2, substitute.shape[0]/4, param1=200, param2=100, minRadius=0, maxRadius=0)\n",
    "        if circles is not None and len(circles) > 0:\n",
    "            cv2.fillPoly(copy_blob, [contour], 0)\n",
    "    circ = cv2.absdiff(diff_blob, copy_blob)\n",
    "\n",
    "    # Distinguish rectangles and diamonds\n",
    "    rect, diam = genRectAndDiam(copy_blob)\n",
    "\n",
    "    # Erode\n",
    "    eroded_rect = erode(rect, 10)\n",
    "    eroded_diam = erode(diam, 10)\n",
    "\n",
    "    # Get final rectangles and diamonds\n",
    "    rect = cv2.absdiff(rect, eroded_rect)\n",
    "    diam = cv2.absdiff(diam, eroded_diam)\n",
    "\n",
    "    # Final result\n",
    "    result = [rect, diam, arro, circ]\n",
    "    plot_image(rect, \"Rectangles\")\n",
    "    plot_image(diam, \"Diamonds\")\n",
    "    plot_image(circ, \"Circles\")\n",
    "    plot_image(arro, \"Arrows\")\n",
    "    return result"
   ]
  },
  {
   "cell_type": "code",
   "execution_count": 6,
   "id": "53b69db0-7060-4ae0-bf1a-8df182f4e187",
   "metadata": {
    "execution": {
     "iopub.execute_input": "2024-12-03T05:21:15.123571Z",
     "iopub.status.busy": "2024-12-03T05:21:15.123477Z",
     "iopub.status.idle": "2024-12-03T05:21:15.278230Z",
     "shell.execute_reply": "2024-12-03T05:21:15.277995Z"
    },
    "papermill": {
     "duration": 0.156547,
     "end_time": "2024-12-03T05:21:15.279003",
     "exception": false,
     "start_time": "2024-12-03T05:21:15.122456",
     "status": "completed"
    },
    "tags": []
   },
   "outputs": [
    {
     "name": "stderr",
     "output_type": "stream",
     "text": [
      "/var/folders/zf/tlb2078n343gt63yyzg050lm0000gn/T/ipykernel_71901/3224580163.py:6: UserWarning: FigureCanvasAgg is non-interactive, and thus cannot be shown\n",
      "  plt.show()\n"
     ]
    }
   ],
   "source": [
    "img_path = \"sample-flowcharts/fc3.jpeg\"\n",
    "fc = cv2.cvtColor(cv2.imread(img_path), cv2.COLOR_BGR2RGB)\n",
    "result = prepro(fc)"
   ]
  }
 ],
 "metadata": {
  "kernelspec": {
   "display_name": "Python 3 (ipykernel)",
   "language": "python",
   "name": "python3"
  },
  "language_info": {
   "codemirror_mode": {
    "name": "ipython",
    "version": 3
   },
   "file_extension": ".py",
   "mimetype": "text/x-python",
   "name": "python",
   "nbconvert_exporter": "python",
   "pygments_lexer": "ipython3",
   "version": "3.12.2"
  },
  "papermill": {
   "default_parameters": {},
   "duration": 1.783485,
   "end_time": "2024-12-03T05:21:15.496566",
   "environment_variables": {},
   "exception": null,
   "input_path": "preprocessing.ipynb",
   "output_path": "executed_project.ipynb",
   "parameters": {
    "image_path": "input_image.png"
   },
   "start_time": "2024-12-03T05:21:13.713081",
   "version": "2.6.0"
  }
 },
 "nbformat": 4,
 "nbformat_minor": 5
}