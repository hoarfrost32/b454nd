{
 "cells": [
  {
   "cell_type": "code",
   "execution_count": 1,
   "id": "5a63f0e8",
   "metadata": {
    "execution": {
     "iopub.execute_input": "2024-12-05T00:33:38.373752Z",
     "iopub.status.busy": "2024-12-05T00:33:38.373399Z",
     "iopub.status.idle": "2024-12-05T00:33:38.378386Z",
     "shell.execute_reply": "2024-12-05T00:33:38.377564Z"
    },
    "papermill": {
     "duration": 0.019854,
     "end_time": "2024-12-05T00:33:38.380204",
     "exception": false,
     "start_time": "2024-12-05T00:33:38.360350",
     "status": "completed"
    },
    "tags": [
     "injected-parameters"
    ]
   },
   "outputs": [],
   "source": [
    "# Parameters\n",
    "image_path = \"input_image.png\"\n"
   ]
  },
  {
   "cell_type": "code",
   "execution_count": 2,
   "id": "6c6fb94d-40ab-4c61-a860-11247544539d",
   "metadata": {
    "execution": {
     "iopub.execute_input": "2024-12-05T00:33:38.390524Z",
     "iopub.status.busy": "2024-12-05T00:33:38.389780Z",
     "iopub.status.idle": "2024-12-05T00:33:38.394082Z",
     "shell.execute_reply": "2024-12-05T00:33:38.393236Z"
    },
    "papermill": {
     "duration": 0.010748,
     "end_time": "2024-12-05T00:33:38.395798",
     "exception": false,
     "start_time": "2024-12-05T00:33:38.385050",
     "status": "completed"
    },
    "tags": []
   },
   "outputs": [],
   "source": [
    "try:\n",
    "    image_path\n",
    "except NameError:\n",
    "    image_path = 'sample-flowcharts/fc4.jpeg'"
   ]
  },
  {
   "cell_type": "code",
   "execution_count": 3,
   "id": "79cbc6f0-1a0b-451d-adb3-8603caf25770",
   "metadata": {
    "execution": {
     "iopub.execute_input": "2024-12-05T00:33:38.402720Z",
     "iopub.status.busy": "2024-12-05T00:33:38.402471Z",
     "iopub.status.idle": "2024-12-05T00:33:38.775333Z",
     "shell.execute_reply": "2024-12-05T00:33:38.775059Z"
    },
    "papermill": {
     "duration": 0.37738,
     "end_time": "2024-12-05T00:33:38.776240",
     "exception": false,
     "start_time": "2024-12-05T00:33:38.398860",
     "status": "completed"
    },
    "tags": []
   },
   "outputs": [],
   "source": [
    "import cv2\n",
    "import numpy as np\n",
    "import math\n",
    "import os\n",
    "from matplotlib import pyplot as plt"
   ]
  },
  {
   "cell_type": "code",
   "execution_count": 4,
   "id": "dfaf1aaf-fde1-44e2-b41d-eacc31552535",
   "metadata": {
    "execution": {
     "iopub.execute_input": "2024-12-05T00:33:38.779037Z",
     "iopub.status.busy": "2024-12-05T00:33:38.778869Z",
     "iopub.status.idle": "2024-12-05T00:33:38.783344Z",
     "shell.execute_reply": "2024-12-05T00:33:38.783148Z"
    },
    "papermill": {
     "duration": 0.006595,
     "end_time": "2024-12-05T00:33:38.784022",
     "exception": false,
     "start_time": "2024-12-05T00:33:38.777427",
     "status": "completed"
    },
    "tags": []
   },
   "outputs": [],
   "source": [
    "# Helper methods\n",
    "def denoiseAndFill(m, thres):\n",
    "    contours, _ = cv2.findContours(m, cv2.RETR_EXTERNAL, cv2.CHAIN_APPROX_SIMPLE)\n",
    "    denoise = np.zeros_like(m)\n",
    "    for contour in contours:\n",
    "        if cv2.contourArea(contour) > thres:\n",
    "            cv2.drawContours(denoise, [contour], -1, 255, thickness=cv2.FILLED)\n",
    "    return denoise\n",
    "\n",
    "def rotate(m, lines):\n",
    "    angles = []\n",
    "    for line in lines:\n",
    "        for x1, y1, x2, y2 in line:\n",
    "            angle = math.atan2(y2 - y1, x2 - x1)\n",
    "            angles.append(angle)\n",
    "    angles.sort()\n",
    "    majority_angles = findMajority(np.array(angles), 10)\n",
    "    angle = np.median(majority_angles)\n",
    "    degree = math.degrees(angle)\n",
    "\n",
    "    # Rotate image\n",
    "    (h, w) = m.shape[:2]\n",
    "    center = (w // 2, h // 2)\n",
    "    rotMat = cv2.getRotationMatrix2D(center, degree, 1.0)\n",
    "    rotated = cv2.warpAffine(m, rotMat, (w, h), flags=cv2.INTER_LINEAR)\n",
    "    return rotated\n",
    "\n",
    "def findMajority(input_angles, splits):\n",
    "    pi = math.pi\n",
    "    bins = np.linspace(-pi/2, pi/2, splits+1)\n",
    "    hist, bin_edges = np.histogram(input_angles, bins)\n",
    "    max_bin = np.argmax(hist)\n",
    "    mask = (input_angles >= bin_edges[max_bin]) & (input_angles < bin_edges[max_bin+1])\n",
    "    majority = input_angles[mask]\n",
    "    return majority\n",
    "\n",
    "def dilate(m, r):\n",
    "    se = seGen(r)\n",
    "    dilated = cv2.dilate(m, se)\n",
    "    return dilated\n",
    "\n",
    "def erode(m, r):\n",
    "    se = seGen(r)\n",
    "    eroded = cv2.erode(m, se)\n",
    "    return eroded\n",
    "\n",
    "def seGen(radius):\n",
    "    diameter = 2 * radius + 1\n",
    "    se = cv2.getStructuringElement(cv2.MORPH_ELLIPSE, (diameter, diameter))\n",
    "    return se\n",
    "\n",
    "def genRectAndDiam(m):\n",
    "    contours, _ = cv2.findContours(m, cv2.RETR_EXTERNAL, cv2.CHAIN_APPROX_SIMPLE)\n",
    "    rectangle = np.zeros_like(m)\n",
    "    diamond = np.zeros_like(m)\n",
    "    for contour in contours:\n",
    "        area = cv2.contourArea(contour)\n",
    "        x, y, w, h = cv2.boundingRect(contour)\n",
    "        rect_area = w * h\n",
    "        if area / rect_area > 0.75:\n",
    "            cv2.drawContours(rectangle, [contour], -1, 255, thickness=cv2.FILLED)\n",
    "        else:\n",
    "            cv2.drawContours(diamond, [contour], -1, 255, thickness=cv2.FILLED)\n",
    "    return rectangle, diamond\n",
    "\n",
    "def plot_image(img, title):\n",
    "    plt.figure()\n",
    "    plt.imshow(img, cmap=\"gray\")\n",
    "    plt.axis('off')\n",
    "    plt.title(title)\n",
    "    plt.show()"
   ]
  },
  {
   "cell_type": "code",
   "execution_count": 5,
   "id": "fb437b19-e149-44af-a428-e828386cf8f5",
   "metadata": {
    "execution": {
     "iopub.execute_input": "2024-12-05T00:33:38.786464Z",
     "iopub.status.busy": "2024-12-05T00:33:38.786353Z",
     "iopub.status.idle": "2024-12-05T00:33:38.790838Z",
     "shell.execute_reply": "2024-12-05T00:33:38.790613Z"
    },
    "papermill": {
     "duration": 0.006437,
     "end_time": "2024-12-05T00:33:38.791524",
     "exception": false,
     "start_time": "2024-12-05T00:33:38.785087",
     "status": "completed"
    },
    "tags": []
   },
   "outputs": [],
   "source": [
    "def SE_opening(radius):\n",
    "        diameter = 2 * radius + 1\n",
    "        se = cv2.getStructuringElement(cv2.MORPH_ELLIPSE, (diameter, diameter))\n",
    "        return se\n",
    "\n",
    "def prepro(mat):\n",
    "    plot_image(mat, \"Original Image\")\n",
    "    rows, cols = mat.shape[:2]\n",
    "\n",
    "    # Convert to grayscale\n",
    "    gray = cv2.cvtColor(mat, cv2.COLOR_RGB2GRAY)\n",
    "    plot_image(gray, \"Grayscale Image\")\n",
    "\n",
    "    # Adaptive thresholding (binarization)\n",
    "    bina = cv2.adaptiveThreshold(gray, 255, cv2.ADAPTIVE_THRESH_MEAN_C, cv2.THRESH_BINARY, 65, 40)\n",
    "    plot_image(bina, \"Binarized Image\")\n",
    "\n",
    "    # Bitwise inversion\n",
    "    bina = cv2.bitwise_not(bina)\n",
    "    plot_image(bina, \"Bitwise Inverted Image\")\n",
    "\n",
    "\n",
    "    # Denoise and fill\n",
    "    denoise = denoiseAndFill(bina, 100)\n",
    "    plot_image(denoise, \"After denoising and fill\")\n",
    "\n",
    "    # Edge detection\n",
    "    edges = cv2.Canny(denoise, 100, 100, apertureSize=3, L2gradient=False)\n",
    "    plot_image(edges, \"Detected Edges\")\n",
    "\n",
    "    # Hough Transform\n",
    "    lines = cv2.HoughLinesP(edges, 1, np.pi / 180.0, 50, minLineLength=30, maxLineGap=5)\n",
    "    if lines is not None and len(lines) > 0:\n",
    "        rotated = rotate(denoise, lines)\n",
    "        substitute = rotated.copy()\n",
    "        rows, cols = substitute.shape[:2]\n",
    "    else:\n",
    "        substitute = denoise.copy()\n",
    "    plot_image(substitute, \"Rotated Image\")\n",
    "\n",
    "    # Fill small regions\n",
    "    fill = denoiseAndFill(substitute, 100)\n",
    "\n",
    "    # Morphological opening to eliminate arrows\n",
    "    seOpen = seGen(10)\n",
    "    opened = cv2.morphologyEx(fill, cv2.MORPH_OPEN, seOpen)\n",
    "    opened = denoiseAndFill(opened, 100)\n",
    "    plot_image(opened, \"Opened Image\")\n",
    "\n",
    "    # Compute difference to get arrows\n",
    "    diff = cv2.absdiff(fill, opened)\n",
    "    plot_image(diff, \"Arrows\")\n",
    "\n",
    "    # Remove small areas generated by opening\n",
    "    remv = denoiseAndFill(diff, 50)\n",
    "    arro = cv2.dilate(remv, SE_opening(2))\n",
    "    plot_image(arro, \"Enhanced Arrows\")\n",
    "\n",
    "    # Extract rectangles and diamonds\n",
    "    blob = cv2.absdiff(fill, remv)\n",
    "\n",
    "    # Find circles\n",
    "    eroded_blob = erode(blob, 10)\n",
    "    diff_blob = cv2.absdiff(blob, eroded_blob)\n",
    "    copy_blob = diff_blob.copy()\n",
    "    contours, _ = cv2.findContours(diff_blob, cv2.RETR_EXTERNAL, cv2.CHAIN_APPROX_SIMPLE)\n",
    "    for contour in contours:\n",
    "        temp = np.zeros_like(diff_blob)\n",
    "        cv2.drawContours(temp, [contour], -1, 255, 10)\n",
    "        circles = cv2.HoughCircles(temp, cv2.HOUGH_GRADIENT, 2, substitute.shape[0]/4, param1=150, param2=60, minRadius=0, maxRadius=0)\n",
    "        if circles is not None and len(circles) > 0:\n",
    "            cv2.fillPoly(copy_blob, [contour], 0)\n",
    "    circ = cv2.absdiff(diff_blob, copy_blob)\n",
    "\n",
    "    # Distinguish rectangles and diamonds\n",
    "    rect, diam = genRectAndDiam(copy_blob)\n",
    "\n",
    "    # Erode\n",
    "    eroded_rect = erode(rect, 10)\n",
    "    eroded_diam = erode(diam, 10)\n",
    "\n",
    "    # Get final rectangles and diamonds\n",
    "    rect = cv2.absdiff(rect, eroded_rect)\n",
    "    diam = cv2.absdiff(diam, eroded_diam)\n",
    "\n",
    "    # Final result\n",
    "    result = [rect, diam, arro, circ]\n",
    "    plot_image(rect, \"Rectangles\")\n",
    "    plot_image(diam, \"Diamonds\")\n",
    "    plot_image(circ, \"Circles\")\n",
    "    plot_image(arro, \"Arrows\")\n",
    "    return result"
   ]
  },
  {
   "cell_type": "code",
   "execution_count": 6,
   "id": "3fbc98f1",
   "metadata": {
    "execution": {
     "iopub.execute_input": "2024-12-05T00:33:38.794153Z",
     "iopub.status.busy": "2024-12-05T00:33:38.794044Z",
     "iopub.status.idle": "2024-12-05T00:33:38.796699Z",
     "shell.execute_reply": "2024-12-05T00:33:38.796486Z"
    },
    "papermill": {
     "duration": 0.004815,
     "end_time": "2024-12-05T00:33:38.797451",
     "exception": false,
     "start_time": "2024-12-05T00:33:38.792636",
     "status": "completed"
    },
    "tags": []
   },
   "outputs": [
    {
     "data": {
      "text/plain": [
       "'input_image.png'"
      ]
     },
     "execution_count": 6,
     "metadata": {},
     "output_type": "execute_result"
    }
   ],
   "source": [
    "image_path"
   ]
  },
  {
   "cell_type": "code",
   "execution_count": 7,
   "id": "53b69db0-7060-4ae0-bf1a-8df182f4e187",
   "metadata": {
    "execution": {
     "iopub.execute_input": "2024-12-05T00:33:38.800132Z",
     "iopub.status.busy": "2024-12-05T00:33:38.800028Z",
     "iopub.status.idle": "2024-12-05T00:33:38.888785Z",
     "shell.execute_reply": "2024-12-05T00:33:38.888514Z"
    },
    "papermill": {
     "duration": 0.090886,
     "end_time": "2024-12-05T00:33:38.889538",
     "exception": false,
     "start_time": "2024-12-05T00:33:38.798652",
     "status": "completed"
    },
    "tags": []
   },
   "outputs": [
    {
     "name": "stderr",
     "output_type": "stream",
     "text": [
      "/var/folders/zf/tlb2078n343gt63yyzg050lm0000gn/T/ipykernel_92980/3377694811.py:71: UserWarning: FigureCanvasAgg is non-interactive, and thus cannot be shown\n",
      "  plt.show()\n"
     ]
    }
   ],
   "source": [
    "fc = cv2.cvtColor(cv2.imread(image_path), cv2.COLOR_BGR2RGB)\n",
    "result = prepro(fc)"
   ]
  },
  {
   "cell_type": "code",
   "execution_count": 8,
   "id": "fe98b8fb-6814-4625-a8a6-8de8ff8fd6c5",
   "metadata": {
    "execution": {
     "iopub.execute_input": "2024-12-05T00:33:38.892570Z",
     "iopub.status.busy": "2024-12-05T00:33:38.892437Z",
     "iopub.status.idle": "2024-12-05T00:33:38.898550Z",
     "shell.execute_reply": "2024-12-05T00:33:38.898331Z"
    },
    "papermill": {
     "duration": 0.008427,
     "end_time": "2024-12-05T00:33:38.899272",
     "exception": false,
     "start_time": "2024-12-05T00:33:38.890845",
     "status": "completed"
    },
    "tags": []
   },
   "outputs": [],
   "source": [
    "def rectangle_stats(rectangles):\n",
    "    n_labels, labels, stats, centroids = cv2.connectedComponentsWithStats(rectangles)\n",
    "    num = n_labels-1\n",
    "    center = centroids[1:].astype(int)\n",
    "    anchors = stats[1:, [2,3]]\n",
    "    coordinates = {\"RT\": [], \"RB\": [], \"LT\": [], \"LB\": []}\n",
    "    for i in range(num):\n",
    "        w, h = anchors[i]\n",
    "        rt = (center[i][0] + w//2, center[i][1] + h//2)\n",
    "        coordinates[\"RT\"].append(rt)\n",
    "        rb = (center[i][0] + w//2, center[i][1] - h//2)\n",
    "        coordinates[\"RB\"].append(rb)\n",
    "        lt = (center[i][0] - w//2, center[i][1] + h//2)\n",
    "        coordinates[\"LT\"].append(lt)\n",
    "        lb = (center[i][0] - w//2, center[i][1] - h//2)\n",
    "        coordinates[\"LB\"].append(lb)\n",
    "    return (num, center, coordinates)\n",
    "\n",
    "def diamond_stats(diamonds):\n",
    "    n_labels, labels, stats, centroids = cv2.connectedComponentsWithStats(diamonds)\n",
    "    num = n_labels-1\n",
    "    center = centroids[1:].astype(int)\n",
    "    anchors = stats[1:, [2,3]]\n",
    "    coordinates = {\"Top\": [], \"Bottom\": [], \"Left\": [], \"Right\": []}\n",
    "    for i in range(num):\n",
    "        w, h = anchors[i]\n",
    "        top = (center[i][0], center[i][1] + h//2)\n",
    "        coordinates[\"Top\"].append(top)\n",
    "        bottom = (center[i][0], center[i][1] - h//2)\n",
    "        coordinates[\"Bottom\"].append(bottom)\n",
    "        left = (center[i][0] - w//2, center[i][1])\n",
    "        coordinates[\"Left\"].append(left)\n",
    "        right = (center[i][0] + w//2, center[i][1])\n",
    "        coordinates[\"Right\"].append(right)\n",
    "    return (num, center, coordinates)\n",
    "\n",
    "def circle_stats(circles):\n",
    "    n_labels, labels, stats, centroids = cv2.connectedComponentsWithStats(circles)\n",
    "    num = n_labels-1\n",
    "    center = centroids[1:].astype(int)\n",
    "    anchors = stats[1:, [2,3]]\n",
    "    coordinates = {\"Top\": [], \"Bottom\": [], \"Left\": [], \"Right\": [], \"Radius\": []}\n",
    "    for i in range(num):\n",
    "        w, h = anchors[i]\n",
    "        top = (center[i][0], center[i][1] + h//2)\n",
    "        coordinates[\"Top\"].append(top)\n",
    "        bottom = (center[i][0], center[i][1] - h//2)\n",
    "        coordinates[\"Bottom\"].append(bottom)\n",
    "        left = (center[i][0] - w//2, center[i][1])\n",
    "        coordinates[\"Left\"].append(left)\n",
    "        right = (center[i][0] + w//2, center[i][1])\n",
    "        coordinates[\"Right\"].append(right)\n",
    "        radius = (w+h)//4\n",
    "        coordinates[\"Radius\"].append(radius)\n",
    "    return (num, center, coordinates)\n",
    "\n",
    "def arrow_stats(arrows):\n",
    "    n_labels, labels, stats, centroids = cv2.connectedComponentsWithStats(arrows)\n",
    "    num = n_labels-1\n",
    "\n",
    "    if num == 0:\n",
    "      raise Exception\n",
    "  \n",
    "    center = centroids[1:].astype(int)\n",
    "    anchors = stats[1:, [2,3]]\n",
    "    coordinates = {\"Tail\": [], \"Head\": []}\n",
    "    for i in range(num):\n",
    "        x = stats[i+1, cv2.CC_STAT_LEFT]\n",
    "        y = stats[i+1, cv2.CC_STAT_TOP]\n",
    "        w = stats[i+1, cv2.CC_STAT_WIDTH]\n",
    "        h = stats[i+1, cv2.CC_STAT_HEIGHT]\n",
    "        center_x, center_y = center[i]\n",
    "\n",
    "        box_X = x + 0.5 * w\n",
    "        box_Y = y + 0.5 * h\n",
    "        \n",
    "        if max(w, h) > 40:\n",
    "          if w > h:\n",
    "            if center_x < box_X:\n",
    "              head = [x, y]\n",
    "              tail = [x + w, y]\n",
    "            else:\n",
    "              head = [x + w, y]\n",
    "              tail = [x, y]\n",
    "          else:\n",
    "              if center_y < box_Y:\n",
    "                head = [x, y]\n",
    "                tail = [x, y + h]\n",
    "              else:\n",
    "                head = [x, y + h]\n",
    "                tail = [x, y]\n",
    "          coordinates[\"Head\"].append(head)\n",
    "          coordinates[\"Tail\"].append(tail)\n",
    "        else:\n",
    "          num -= 1\n",
    "    return (num, center, coordinates)"
   ]
  },
  {
   "cell_type": "code",
   "execution_count": 9,
   "id": "54c8f8ac-692c-466f-9557-1195eda5168e",
   "metadata": {
    "execution": {
     "iopub.execute_input": "2024-12-05T00:33:38.902219Z",
     "iopub.status.busy": "2024-12-05T00:33:38.902124Z",
     "iopub.status.idle": "2024-12-05T00:33:38.903636Z",
     "shell.execute_reply": "2024-12-05T00:33:38.903403Z"
    },
    "papermill": {
     "duration": 0.003912,
     "end_time": "2024-12-05T00:33:38.904442",
     "exception": false,
     "start_time": "2024-12-05T00:33:38.900530",
     "status": "completed"
    },
    "tags": []
   },
   "outputs": [],
   "source": [
    "[rectangles, diamonds, arrows, circles] = result"
   ]
  },
  {
   "cell_type": "code",
   "execution_count": 10,
   "id": "e7b4afdd-5ca3-44b8-b872-97827daa6972",
   "metadata": {
    "execution": {
     "iopub.execute_input": "2024-12-05T00:33:38.907105Z",
     "iopub.status.busy": "2024-12-05T00:33:38.907008Z",
     "iopub.status.idle": "2024-12-05T00:33:38.910766Z",
     "shell.execute_reply": "2024-12-05T00:33:38.910530Z"
    },
    "papermill": {
     "duration": 0.005965,
     "end_time": "2024-12-05T00:33:38.911537",
     "exception": false,
     "start_time": "2024-12-05T00:33:38.905572",
     "status": "completed"
    },
    "tags": []
   },
   "outputs": [],
   "source": [
    "shape_stats = [rectangle_stats(rectangles), diamond_stats(diamonds), circle_stats(circles), arrow_stats(arrows)]"
   ]
  },
  {
   "cell_type": "code",
   "execution_count": 11,
   "id": "298e7151-8dcb-4b43-81f3-5f1ca013ad37",
   "metadata": {
    "execution": {
     "iopub.execute_input": "2024-12-05T00:33:38.914384Z",
     "iopub.status.busy": "2024-12-05T00:33:38.914290Z",
     "iopub.status.idle": "2024-12-05T00:33:38.917573Z",
     "shell.execute_reply": "2024-12-05T00:33:38.917346Z"
    },
    "papermill": {
     "duration": 0.005584,
     "end_time": "2024-12-05T00:33:38.918313",
     "exception": false,
     "start_time": "2024-12-05T00:33:38.912729",
     "status": "completed"
    },
    "tags": []
   },
   "outputs": [],
   "source": [
    "# Create a canvas to draw the flowchart on\n",
    "flowchart_canvas = np.ones(fc.shape, dtype=\"uint8\") * 255\n",
    "shapes = shape_stats[:3]\n",
    "arrows = shape_stats[3]\n",
    "\n",
    "# Draw all the shapes first\n",
    "  # First up: Rectangles\n",
    "for i in range(0, shapes[0][0]):\n",
    "  cv2.rectangle(flowchart_canvas, shapes[0][2][\"LT\"][i], shape_stats[0][2][\"RB\"][i], (255, 0, 0), thickness=-1)\n",
    "\n",
    "  # Next up: Diamonds\n",
    "for i in range(0, shapes[1][0]):\n",
    "\n",
    "  points = np.array([\n",
    "    shapes[1][2][\"Top\"][i],\n",
    "    shapes[1][2][\"Right\"][i],\n",
    "    shapes[1][2][\"Bottom\"][i],\n",
    "    shapes[1][2][\"Left\"][i],\n",
    "  ])\n",
    "  \n",
    "  cv2.fillPoly(flowchart_canvas, [points], color=(0, 255, 0))\n",
    "  \n",
    "  # Next up: Circles\n",
    "for i in range(0, shapes[2][0]):\n",
    "  cv2.circle(flowchart_canvas, shapes[2][1][i], shapes[2][2][\"Radius\"][i], (0, 0, 255), thickness=-1)\n",
    "\n",
    "  # Finally, we go for the Arrows:\n",
    "for i in range(0, arrows[0]):\n",
    "  cv2.arrowedLine(flowchart_canvas, arrows[2][\"Tail\"][i], arrows[2][\"Head\"][i], (0, 0, 0), thickness=4, tipLength=0.2)"
   ]
  },
  {
   "cell_type": "code",
   "execution_count": 12,
   "id": "9e337dea-bcd3-4d94-973c-e07396992da7",
   "metadata": {
    "execution": {
     "iopub.execute_input": "2024-12-05T00:33:38.921051Z",
     "iopub.status.busy": "2024-12-05T00:33:38.920957Z",
     "iopub.status.idle": "2024-12-05T00:33:38.923398Z",
     "shell.execute_reply": "2024-12-05T00:33:38.923198Z"
    },
    "papermill": {
     "duration": 0.004589,
     "end_time": "2024-12-05T00:33:38.924096",
     "exception": false,
     "start_time": "2024-12-05T00:33:38.919507",
     "status": "completed"
    },
    "tags": []
   },
   "outputs": [
    {
     "name": "stdout",
     "output_type": "stream",
     "text": [
      "[[357 316]\n",
      " [420 393]\n",
      " [573 391]\n",
      " [118 396]\n",
      " [257 397]\n",
      " [337 510]\n",
      " [245 618]]\n"
     ]
    }
   ],
   "source": [
    "plt.imshow(flowchart_canvas)\n",
    "\n",
    "print(arrows[1])"
   ]
  },
  {
   "cell_type": "code",
   "execution_count": 13,
   "id": "87c54e1a-72c1-4ed1-868c-215e48bdf7c3",
   "metadata": {
    "execution": {
     "iopub.execute_input": "2024-12-05T00:33:38.926877Z",
     "iopub.status.busy": "2024-12-05T00:33:38.926792Z",
     "iopub.status.idle": "2024-12-05T00:33:38.931492Z",
     "shell.execute_reply": "2024-12-05T00:33:38.931287Z"
    },
    "papermill": {
     "duration": 0.006911,
     "end_time": "2024-12-05T00:33:38.932223",
     "exception": false,
     "start_time": "2024-12-05T00:33:38.925312",
     "status": "completed"
    },
    "tags": []
   },
   "outputs": [
    {
     "data": {
      "text/plain": [
       "True"
      ]
     },
     "execution_count": 13,
     "metadata": {},
     "output_type": "execute_result"
    }
   ],
   "source": [
    "cv2.imwrite(\"output-flowchart.png\", flowchart_canvas)"
   ]
  }
 ],
 "metadata": {
  "kernelspec": {
   "display_name": "base",
   "language": "python",
   "name": "python3"
  },
  "language_info": {
   "codemirror_mode": {
    "name": "ipython",
    "version": 3
   },
   "file_extension": ".py",
   "mimetype": "text/x-python",
   "name": "python",
   "nbconvert_exporter": "python",
   "pygments_lexer": "ipython3",
   "version": "3.12.2"
  },
  "papermill": {
   "default_parameters": {},
   "duration": 1.722019,
   "end_time": "2024-12-05T00:33:39.150423",
   "environment_variables": {},
   "exception": null,
   "input_path": "preprocessing.ipynb",
   "output_path": "executed_project.ipynb",
   "parameters": {
    "image_path": "input_image.png"
   },
   "start_time": "2024-12-05T00:33:37.428404",
   "version": "2.6.0"
  }
 },
 "nbformat": 4,
 "nbformat_minor": 5
}